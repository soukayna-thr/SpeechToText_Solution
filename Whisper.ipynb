{
 "cells": [
  {
   "cell_type": "markdown",
   "metadata": {},
   "source": [
    "###  1.Installation des dépendances"
   ]
  },
  {
   "cell_type": "code",
   "execution_count": 10,
   "metadata": {
    "colab": {
     "base_uri": "https://localhost:8080/"
    },
    "id": "V9sRKpS17pFj",
    "outputId": "edd51ef9-afde-4c0f-d9ee-c985d9506d61",
    "scrolled": true
   },
   "outputs": [
    {
     "name": "stdout",
     "output_type": "stream",
     "text": [
      "Requirement already satisfied: openai-whisper in c:\\users\\pc\\anaconda3\\lib\\site-packages (20240930)\n",
      "Requirement already satisfied: numba in c:\\users\\pc\\anaconda3\\lib\\site-packages (from openai-whisper) (0.59.1)\n",
      "Requirement already satisfied: numpy in c:\\users\\pc\\anaconda3\\lib\\site-packages (from openai-whisper) (1.26.4)\n",
      "Requirement already satisfied: torch in c:\\users\\pc\\anaconda3\\lib\\site-packages (from openai-whisper) (2.6.0)\n",
      "Requirement already satisfied: tqdm in c:\\users\\pc\\anaconda3\\lib\\site-packages (from openai-whisper) (4.66.4)\n",
      "Requirement already satisfied: more-itertools in c:\\users\\pc\\anaconda3\\lib\\site-packages (from openai-whisper) (10.1.0)\n",
      "Requirement already satisfied: tiktoken in c:\\users\\pc\\anaconda3\\lib\\site-packages (from openai-whisper) (0.9.0)\n",
      "Requirement already satisfied: llvmlite<0.43,>=0.42.0dev0 in c:\\users\\pc\\anaconda3\\lib\\site-packages (from numba->openai-whisper) (0.42.0)\n",
      "Requirement already satisfied: regex>=2022.1.18 in c:\\users\\pc\\anaconda3\\lib\\site-packages (from tiktoken->openai-whisper) (2023.10.3)\n",
      "Requirement already satisfied: requests>=2.26.0 in c:\\users\\pc\\anaconda3\\lib\\site-packages (from tiktoken->openai-whisper) (2.32.2)\n",
      "Requirement already satisfied: filelock in c:\\users\\pc\\anaconda3\\lib\\site-packages (from torch->openai-whisper) (3.13.1)\n",
      "Requirement already satisfied: typing-extensions>=4.10.0 in c:\\users\\pc\\anaconda3\\lib\\site-packages (from torch->openai-whisper) (4.11.0)\n",
      "Requirement already satisfied: networkx in c:\\users\\pc\\anaconda3\\lib\\site-packages (from torch->openai-whisper) (3.2.1)\n",
      "Requirement already satisfied: jinja2 in c:\\users\\pc\\anaconda3\\lib\\site-packages (from torch->openai-whisper) (3.1.4)\n",
      "Requirement already satisfied: fsspec in c:\\users\\pc\\anaconda3\\lib\\site-packages (from torch->openai-whisper) (2024.3.1)\n",
      "Requirement already satisfied: setuptools in c:\\users\\pc\\anaconda3\\lib\\site-packages (from torch->openai-whisper) (69.5.1)\n",
      "Requirement already satisfied: sympy==1.13.1 in c:\\users\\pc\\anaconda3\\lib\\site-packages (from torch->openai-whisper) (1.13.1)\n",
      "Requirement already satisfied: mpmath<1.4,>=1.1.0 in c:\\users\\pc\\anaconda3\\lib\\site-packages (from sympy==1.13.1->torch->openai-whisper) (1.3.0)\n",
      "Requirement already satisfied: colorama in c:\\users\\pc\\anaconda3\\lib\\site-packages (from tqdm->openai-whisper) (0.4.6)\n",
      "Requirement already satisfied: charset-normalizer<4,>=2 in c:\\users\\pc\\anaconda3\\lib\\site-packages (from requests>=2.26.0->tiktoken->openai-whisper) (2.0.4)\n",
      "Requirement already satisfied: idna<4,>=2.5 in c:\\users\\pc\\anaconda3\\lib\\site-packages (from requests>=2.26.0->tiktoken->openai-whisper) (2.10)\n",
      "Requirement already satisfied: urllib3<3,>=1.21.1 in c:\\users\\pc\\anaconda3\\lib\\site-packages (from requests>=2.26.0->tiktoken->openai-whisper) (2.2.2)\n",
      "Requirement already satisfied: certifi>=2017.4.17 in c:\\users\\pc\\anaconda3\\lib\\site-packages (from requests>=2.26.0->tiktoken->openai-whisper) (2024.8.30)\n",
      "Requirement already satisfied: MarkupSafe>=2.0 in c:\\users\\pc\\anaconda3\\lib\\site-packages (from jinja2->torch->openai-whisper) (2.1.3)\n",
      "Requirement already satisfied: torch in c:\\users\\pc\\anaconda3\\lib\\site-packages (2.6.0)\n",
      "Requirement already satisfied: filelock in c:\\users\\pc\\anaconda3\\lib\\site-packages (from torch) (3.13.1)\n",
      "Requirement already satisfied: typing-extensions>=4.10.0 in c:\\users\\pc\\anaconda3\\lib\\site-packages (from torch) (4.11.0)\n",
      "Requirement already satisfied: networkx in c:\\users\\pc\\anaconda3\\lib\\site-packages (from torch) (3.2.1)\n",
      "Requirement already satisfied: jinja2 in c:\\users\\pc\\anaconda3\\lib\\site-packages (from torch) (3.1.4)\n",
      "Requirement already satisfied: fsspec in c:\\users\\pc\\anaconda3\\lib\\site-packages (from torch) (2024.3.1)\n",
      "Requirement already satisfied: setuptools in c:\\users\\pc\\anaconda3\\lib\\site-packages (from torch) (69.5.1)\n",
      "Requirement already satisfied: sympy==1.13.1 in c:\\users\\pc\\anaconda3\\lib\\site-packages (from torch) (1.13.1)\n",
      "Requirement already satisfied: mpmath<1.4,>=1.1.0 in c:\\users\\pc\\anaconda3\\lib\\site-packages (from sympy==1.13.1->torch) (1.3.0)\n",
      "Requirement already satisfied: MarkupSafe>=2.0 in c:\\users\\pc\\anaconda3\\lib\\site-packages (from jinja2->torch) (2.1.3)\n",
      "Requirement already satisfied: ffmpeg-python in c:\\users\\pc\\anaconda3\\lib\\site-packages (0.2.0)\n",
      "Requirement already satisfied: future in c:\\users\\pc\\anaconda3\\lib\\site-packages (from ffmpeg-python) (1.0.0)\n"
     ]
    }
   ],
   "source": [
    "!pip install openai-whisper\n",
    "!pip install torch\n",
    "!pip install ffmpeg-python"
   ]
  },
  {
   "cell_type": "markdown",
   "metadata": {},
   "source": [
    "### 2.Importation des bibliothèques nécessaires"
   ]
  },
  {
   "cell_type": "code",
   "execution_count": 1,
   "metadata": {
    "id": "CYV4vzA79swK"
   },
   "outputs": [],
   "source": [
    "import whisper\n",
    "import time"
   ]
  },
  {
   "cell_type": "markdown",
   "metadata": {},
   "source": [
    "### 3.Chargement du modèle Whisper (version medium)"
   ]
  },
  {
   "cell_type": "code",
   "execution_count": 17,
   "metadata": {
    "id": "OIhc5xVA-Jaf"
   },
   "outputs": [],
   "source": [
    "model_medium = whisper.load_model(\"medium\")"
   ]
  },
  {
   "cell_type": "markdown",
   "metadata": {},
   "source": [
    "### 4.Transcription d'un fichier audio"
   ]
  },
  {
   "cell_type": "code",
   "execution_count": 57,
   "metadata": {
    "colab": {
     "base_uri": "https://localhost:8080/"
    },
    "id": "87caoYvF-kOA",
    "outputId": "7eae39ae-75be-41ae-e7a8-aaaa8cb3a8c7"
   },
   "outputs": [],
   "source": [
    "start_time = time.time()\n",
    "result_medium = model_medium.transcribe(\"aud2.mp3\")\n",
    "end_time = time.time()"
   ]
  },
  {
   "cell_type": "code",
   "execution_count": 61,
   "metadata": {
    "colab": {
     "base_uri": "https://localhost:8080/"
    },
    "id": "a2SizWIN-nwH",
    "outputId": "bed8fb42-8e12-44d9-864d-12dbb7fe1812"
   },
   "outputs": [
    {
     "name": "stdout",
     "output_type": "stream",
     "text": [
      "\n",
      "🔹 Transcription with medium model:\n",
      "  5 minutes de français de francaisavecthierre.com Bonjour et bienvenue dans ce nouvel épisode de 5 minutes de français. Moi c'est Judith. Et moi c'est Emilie. Dis-moi Emilie, pour le déjeuner t'as mangé où ? Chez toi ? Tu veux dire ce midi ? Non pas du tout, j'ai pas eu le temps de rentrer à la maison, j'ai mangé sur le pouce comme très souvent. J'ai acheté un sandwich à la boulangerie d'à côté. D'ailleurs ils sont très bons, je te la recommande. Merci. Alors manger sur le pouce signifie manger rapidement, souvent debout ou en mouvement sans prendre le temps de s'installer à table. Et c'est justement le thème de notre émission. Les français mangent de moins en moins à table. Eh oui, les habitudes des français changent. Dans ce programme nous allons explorer cette tendance et comme d'habitude nous apprendrons du vocabulaire utile que vous pouvez retrouver sur notre site francaisavecpierre.com ainsi que la transcription. Très bien, mais avant cela place à la question de cet épisode Emilie. Le 19 novembre 2010, le comité intergouvernemental de l'UNESCO, en charge de la sauvegarde du patrimoine culturel immatériel de l'humanité, décidait qu'une tradition française méritait d'être portée sur sa liste. De quelle tradition ou savoir-faire s'agit-il ? Eh bien, je pense que c'est la réponse C, le repas gastronomique. D'accord, nous découvrirons la bonne réponse plus tard. Voyons maintenant ce qui a changé par rapport au repas chez les français ces dernières années. On le sait, les français ont tendance à avoir un mode de vie de plus en plus sédentaire, c'est-à-dire qu'ils mènent une vie avec peu d'activité physique, souvent liée à un travail ou un quotidien qui implique de rester longtemps assis. Mais maintenant ils ne mangent même plus à table. En effet, selon une enquête récente sur nos habitudes alimentaires et nos nouveaux modes de consommation, 29% des français, soit près d'un tiers, ne prennent plus leur repas à table. À la place, ils privilégient d'autres espaces. 8% utilisent la table basse du salon, 5% mangent sur le canapé, 3% devant l'ordinateur et 1% prennent même leur repas au lit. C'est dingue ! Ce changement dans les habitudes alimentaires est principalement initié par les étudiants, mais aussi par les accros aux écrans, c'est-à-dire les personnes qui passent beaucoup de temps devant les écrans. Et ces nouvelles habitudes ne se réduisent pas forcément au repas pris devant la télévision, qu'on appelle plateau télé, mais traduisent plutôt une volonté de s'affranchir du protocole traditionnel de la table bien dressée et de ses contraintes. C'est pour ça qu'on retrouve aussi cette tendance chez des jeunes couples souhaitant partager un moment ensemble sans pour autant manger à table de manière traditionnelle. Et si de plus en plus de Français optent pour le canapé ou la table basse pour leur repas, cela ne signifie pas pour autant la disparition de l'art de vivre à la française. En effet, cela ne remet pas en cause l'importance du repas comme un moment de pause essentiel et un moment privilégié pour passer du bon temps en famille ou entre amis. C'est clair, ces moments de joie sont inoubliables et irremplaçables. C'est mieux de mieux qu'un bon repas en famille ou entre amis qui dure des heures et des heures, avec l'apéritif, l'entrée, le plat principal, le fromage, le dessert, sans oublier le petit café ou le digestif à la fin. Au fait, Émilie, il est temps de répondre à la question de l'épisode d'aujourd'hui. Oui, tu m'as demandé quelle tradition française a été ajoutée par l'UNESCO sur sa liste du patrimoine immatériel de l'humanité. J'ai répondu « c'est le repas gastronomique ». C'est la bonne réponse ? Oui, c'est exact. Félicitations, Émilie. Revenons sur le vocabulaire que nous avons appris aujourd'hui. Manger sur le pouce signifie manger rapidement, souvent debout ou en mouvement, sans prendre le temps de s'installer à table. Un mode de vie sédentaire, c'est mener une vie avec peu d'activité physique, souvent liée à un travail ou un quotidien qui implique de rester longtemps assis. L'expression plateau télé désigne un repas pris devant la télévision. Et l'expression accro aux écrans désigne des personnes qui passent beaucoup de temps devant un écran. Et voilà, nos 5 minutes sont écoulées. À bientôt pour un nouvel épisode de 5 minutes de français. Au revoir !\n",
      "\n",
      " Processing Time: 517.55 seconds\n"
     ]
    }
   ],
   "source": [
    "print(\"\\n🔹 Transcription with medium model:\\n\", result_medium[\"text\"])\n",
    "print(f\"\\n Processing Time: {end_time - start_time:.2f} seconds\")"
   ]
  },
  {
   "cell_type": "markdown",
   "metadata": {},
   "source": [
    "### 3.Chargement du modèle Whisper (version small)"
   ]
  },
  {
   "cell_type": "code",
   "execution_count": 25,
   "metadata": {
    "scrolled": true
   },
   "outputs": [
    {
     "name": "stderr",
     "output_type": "stream",
     "text": [
      "C:\\Users\\chaim\\anaconda3\\Lib\\site-packages\\whisper\\__init__.py:150: FutureWarning: You are using `torch.load` with `weights_only=False` (the current default value), which uses the default pickle module implicitly. It is possible to construct malicious pickle data which will execute arbitrary code during unpickling (See https://github.com/pytorch/pytorch/blob/main/SECURITY.md#untrusted-models for more details). In a future release, the default value for `weights_only` will be flipped to `True`. This limits the functions that could be executed during unpickling. Arbitrary objects will no longer be allowed to be loaded via this mode unless they are explicitly allowlisted by the user via `torch.serialization.add_safe_globals`. We recommend you start setting `weights_only=True` for any use case where you don't have full control of the loaded file. Please open an issue on GitHub for any issues related to this experimental feature.\n",
      "  checkpoint = torch.load(fp, map_location=device)\n"
     ]
    }
   ],
   "source": [
    "model_small = whisper.load_model(\"small\")"
   ]
  },
  {
   "cell_type": "code",
   "execution_count": 63,
   "metadata": {},
   "outputs": [],
   "source": [
    "start_time = time.time()\n",
    "result_small = model_small.transcribe(\"aud2.mp3\")\n",
    "end_time = time.time()"
   ]
  },
  {
   "cell_type": "code",
   "execution_count": 65,
   "metadata": {},
   "outputs": [
    {
     "name": "stdout",
     "output_type": "stream",
     "text": [
      "\n",
      "🔹 Transcription with small model:\n",
      "  Bonjour et bienvenue dans ce nouvel épisode de 5 minutes de français. Moi, c'est Judith. Et moi, c'est Émilie. Dis-moi Émilie, pour le déjeuner, t'as mangé où ? Chez toi ? Tu veux dire ce midi ? Non, pas du tout. J'ai pas eu le temps de rentrer à la maison. J'ai mangé sur le pouce comme très souvent. J'ai acheté un sandwich à la boulangerie d'à côté. D'ailleurs, ils sont très bons, je te la recommande. Ah, merci. Alors manger sur le pouce signifie manger rapidement, souvent debout ou en mouvement, sans prendre le temps de s'installer à table. Et c'est justement le thème de notre émission. Les Français mangent de moins en moins à table. Et oui, les habitudes des Français changent. Dans ce programme, nous allons explorer cette tendance et comme d'habitude, nous apprendrons du vocabulaire utile que vous pouvez retrouver sur notre site françaisavecpierre.com ainsi que la transcription. Très bien, mais avance-là, place à la question de cet épisode, Émilie. Le 19 novembre 2010, le comité intergouvernemental de l'UNESCO, en charge de la sauvegarde du patrimoine culturel immatériel de l'humanité, décidait qu'une tradition française méritait d'être portée sur sa liste. De quelle tradition ou savoir-faire s'agit-il ? A. la cuisine française. B. les vins de France. C. le repas gastronomique. C'est-à-dire un repas raffiné et élaboré. Et bien je pense que c'est la réponse. C. le repas gastronomique. D'accord, nous découvrirons la bonne réponse plus tard. Voyons maintenant ce qu'il y a changé par rapport au repas chez les Français ces dernières années. On le sait, les Français ont tendance à avoir un mode de vie de plus en plus sédentaire. C. à-dire qu'ils mènent une vie avec peu d'activité physique, souvent liés à un travail ou un quotidien qui implique de rester longtemps assis. Mais maintenant, ils ne mangent même plus à table. R. un effet, selon une enquête récente sur nos habitudes alimentaires et nos nouveaux modes de consommation, 29% des Français, soit près d'un tiers, ne prennent plus leur repas à table. A. la place, ils privilégient d'autres espaces. 8% utilisent la table basse du salon, 5% mangent sur le canapé, 3% devant l'ordinateur et 1% prennent même leur repas au lit. C. c'est dingue. Ce changement dans les habitudes alimentaires est principalement initié par les étudiants mais aussi par les accros aux écrans, c. à-dire les personnes qui passent beaucoup de temps devant les écrans. C. et ces nouvelles habitudes ne se réduisent pas forcément aux repas pris devant la télévision, qu'on appelle plate au télé, mais traduisent plutôt une volonté de s'affranchir du protocole traditionnel de la table bien dressée et de ses contraintes. C. c'est pour ça qu'on retrouve aussi cette tendance chez des jeunes couples souhaitant partager un moment ensemble sans pour autant manger à table de manière traditionnelle. Mais si de plus en plus de Français optent pour le canapé ou la table basse pour leur repas, cela ne signifie pas pour autant la disparition de l'art de vivre à la française. En effet, cela ne remet pas en cause l'importance du repas comme un moment de pause essentiel et un moment privilégié pour passer du bon temps en famille ou entre amis. C. c'est clair, ces moments de joie sont inoubliables et irremplaçables. Quoi de mieux qu'un beau repas en famille ou entre amis qui durent des heures et des heures avec l'apéritif, l'entrée, le plat principal, le fromage, le dessert, sans oublier le petit café ou le digestif à la fin. Au fait, Émilie, il est temps de répondre à la question de l'épisode d'aujourd'hui. Oui, tu m'as demandé quelle tradition française a été ajoutée par l'UNESCO sur sa liste du patrimoine immatériel de l'humanité et j'ai répondu c'est le repas gastronomique. C'est la bonne réponse ? Oui, c'est exact, félicitations Émilie. Revenons sur le vocabulaire que nous avons appris aujourd'hui. Manger sur le pouce signifie manger rapidement, souvent debout ou en mouvement, sans prendre le temps de s'installer à table. Un mode de vie sédentaire, c'est mener une vie avec peu d'activité physique, souvent lié à un travail ou un quotidien qui implique de rester longtemps assis. L'expression plateau-télé désigne un repas pris devant la télévision. Et l'expression accros aux écrans désigne des personnes qui passent beaucoup de temps devant un écran. Et voilà, nos 5 minutes sont écoulées. A bientôt pour un nouvel épisode de 5 minutes de Français. Au revoir.\n",
      "\n",
      " Processing Time: 206.11 seconds\n"
     ]
    }
   ],
   "source": [
    "print(\"\\n🔹 Transcription with small model:\\n\", result_small[\"text\"])\n",
    "print(f\"\\n Processing Time: {end_time - start_time:.2f} seconds\")"
   ]
  },
  {
   "cell_type": "code",
   "execution_count": null,
   "metadata": {},
   "outputs": [],
   "source": []
  }
 ],
 "metadata": {
  "colab": {
   "provenance": []
  },
  "kernelspec": {
   "display_name": "Python 3 (ipykernel)",
   "language": "python",
   "name": "python3"
  },
  "language_info": {
   "codemirror_mode": {
    "name": "ipython",
    "version": 3
   },
   "file_extension": ".py",
   "mimetype": "text/x-python",
   "name": "python",
   "nbconvert_exporter": "python",
   "pygments_lexer": "ipython3",
   "version": "3.12.4"
  }
 },
 "nbformat": 4,
 "nbformat_minor": 4
}
